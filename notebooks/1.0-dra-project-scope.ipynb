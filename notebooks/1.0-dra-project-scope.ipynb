{
 "cells": [
  {
   "cell_type": "markdown",
   "id": "2e9eadf4",
   "metadata": {},
   "source": [
    "## Projeto Imuniza CE"
   ]
  },
  {
   "cell_type": "markdown",
   "id": "3f24faf0",
   "metadata": {},
   "source": [
    "- [ ] Definição do Problema;\n",
    "- [ ] Definição do Escopo;\n",
    "- [ ] Organização da Estrutura do projeto (Data Science LifeCycle Process);\n",
    "- [ ] Definição das Métricas de avaliação;\n",
    "- [ ] Pesquisa de background do problema."
   ]
  },
  {
   "cell_type": "markdown",
   "id": "1a61b520",
   "metadata": {},
   "source": [
    "### Definição do Problema\n",
    "\n",
    "O Projeto visa entender a propagação de casos de Tuberculose no Brasil nos últimos 10 anos e analisar as estratégias de enfrentamento do governo federal através do programa de imunização nacional.\n",
    "\n",
    "### Definição do Escopo\n",
    "\n",
    "Cruzar os dados de casos de Tuberculose no Ceará e Brasil nos últimos 10 anos e traçar um paralelo com as estratégias de enfrentamento do governo federal através do prigrama de imunização nacional.\n",
    "\n",
    "### Estrutura do Projeto\n",
    "\n",
    "    1. Estrutura da Pesquisa\n",
    "        - INTRODUÇÃO / HISTÓRICO / JUSTIFICATIVA / Contexto e suporte da bibliografia.\n",
    "        - OBJETIVOS\n",
    "        - HIPÓTESES\n",
    "        - MÉTODOS / ANÁLISES\n",
    "            - Definição das métricas de avaliação\n",
    "        - RESULTADOS ENCONTRADOS\n",
    "        - CONCLUSÕES\n",
    "\n",
    "    2. Estrutura dos Notebooks\n",
    "        - Exploração dos dados;\n",
    "        - Funções;\n",
    "        - Análises;\n",
    "        - Conclusões.\n",
    "\n",
    "### Referências"
   ]
  },
  {
   "cell_type": "code",
   "execution_count": null,
   "id": "f873c35e",
   "metadata": {},
   "outputs": [],
   "source": []
  },
  {
   "cell_type": "code",
   "execution_count": null,
   "id": "6d721f80",
   "metadata": {},
   "outputs": [],
   "source": []
  }
 ],
 "metadata": {
  "kernelspec": {
   "display_name": "Python 3",
   "language": "python",
   "name": "python3"
  },
  "language_info": {
   "codemirror_mode": {
    "name": "ipython",
    "version": 3
   },
   "file_extension": ".py",
   "mimetype": "text/x-python",
   "name": "python",
   "nbconvert_exporter": "python",
   "pygments_lexer": "ipython3",
   "version": "3.9.5"
  }
 },
 "nbformat": 4,
 "nbformat_minor": 5
}

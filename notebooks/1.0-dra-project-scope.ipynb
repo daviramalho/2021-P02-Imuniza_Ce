{
 "cells": [
  {
   "cell_type": "markdown",
   "id": "2e9eadf4",
   "metadata": {},
   "source": [
    "## Projeto Imuniza CE\n",
    "#### Imunizante BCG no enfrentamento da Tuberculose no Estado do Ceará"
   ]
  },
  {
   "cell_type": "markdown",
   "id": "3f24faf0",
   "metadata": {},
   "source": [
    "- [x] Definição do Problema;\n",
    "- [x] Definição do Escopo;\n",
    "- [x] Organização da Estrutura do projeto (Data Science LifeCycle Process);\n",
    "- [ ] Pesquisa de background do problema;\n",
    "- [ ] Definição das Métricas de avaliação."
   ]
  },
  {
   "cell_type": "markdown",
   "id": "1a61b520",
   "metadata": {},
   "source": [
    "### Definição do Problema\n",
    "\n",
    "O Projeto visa entender a propagação de casos de Tuberculose no Brasil nos últimos 10 anos e analisar as estratégias de enfrentamento do governo federal através do programa de imunização nacional.\n",
    "\n",
    "### Definição do Escopo\n",
    "\n",
    "Cruzar os dados de casos de Tuberculose no Ceará e Brasil nos últimos 10 anos e traçar um paralelo com as estratégias de enfrentamento do governo federal através do prigrama de imunização nacional.\n",
    "\n",
    "### Estrutura do Projeto\n",
    "#### 1. Estrutura da Pesquisa\n",
    "- INTRODUÇÃO / HISTÓRICO / JUSTIFICATIVA / Contexto e suporte da bibliografia.\n",
    "\n",
    "> A **tuberculose** (TB) é uma doença infectocontagiosa transmitida pelas vias aéreas e provocada em grande parte dos casos pela bactéria *Mycobacterium tuberculosis* (também conhecida como bacilo de Koch), podendo ser causada também, embora mais raramente, por outras espécies de agentes como a *Mycobacterium bovis*, *M. africanum* e *M. microti*. A doença afeta principalmente os pulmões e pode atingir outros órgãos do corpo como rins, meninges e ossos.\n",
    "> [Fiocruz, Acessado em 02/07/2021](https://agencia.fiocruz.br/glossario-tuberculose)\n",
    "\n",
    "- OBJETIVOS\n",
    "- HIPÓTESES\n",
    "- MÉTODOS / ANÁLISES\n",
    "    - Definição das métricas de avaliação\n",
    "- RESULTADOS ENCONTRADOS\n",
    "- CONCLUSÕES\n",
    "\n",
    "#### 2. Estrutura dos Notebooks\n",
    "- Exploração dos dados;\n",
    "- Funções;\n",
    "- Análises;\n",
    "- Conclusões.\n",
    "\n",
    "### Referências\n",
    "\n",
    "[FioCruz - Glossário Tuberculose](https://agencia.fiocruz.br/glossario-tuberculose)\n",
    "\n",
    "[FioCruz - Vacina BCG: Qual a relação com a Covid-19?](https://www.bahia.fiocruz.br/vacina-bcg-qual-a-relacao-com-a-covid-19/)\n",
    "\n",
    "[Ministério da Saúde - 01/07 - Dia da Vacina BCG](https://bvsms.saude.gov.br/01-7-dia-da-vacina-bcg-3/)\n",
    "\n",
    "[Uol - Casos de Tuberculose caem no Brasil](https://www.uol.com.br/vivabem/noticias/redacao/2021/03/24/tuberculose-boletim-epidemiologico-2021-novos-casos-obitos-pandemia.htm)"
   ]
  },
  {
   "cell_type": "code",
   "execution_count": null,
   "id": "f873c35e",
   "metadata": {},
   "outputs": [],
   "source": []
  },
  {
   "cell_type": "code",
   "execution_count": null,
   "id": "6d721f80",
   "metadata": {},
   "outputs": [],
   "source": []
  },
  {
   "cell_type": "code",
   "execution_count": null,
   "id": "93d78e46",
   "metadata": {},
   "outputs": [],
   "source": []
  }
 ],
 "metadata": {
  "kernelspec": {
   "display_name": "Python 3",
   "language": "python",
   "name": "python3"
  },
  "language_info": {
   "codemirror_mode": {
    "name": "ipython",
    "version": 3
   },
   "file_extension": ".py",
   "mimetype": "text/x-python",
   "name": "python",
   "nbconvert_exporter": "python",
   "pygments_lexer": "ipython3",
   "version": "3.9.5"
  }
 },
 "nbformat": 4,
 "nbformat_minor": 5
}
